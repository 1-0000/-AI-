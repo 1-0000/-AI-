{
  "nbformat": 4,
  "nbformat_minor": 0,
  "metadata": {
    "colab": {
      "name": "Vanilla_GAN_.ipynb",
      "provenance": [],
      "include_colab_link": true
    },
    "kernelspec": {
      "name": "python3",
      "display_name": "Python 3"
    },
    "language_info": {
      "name": "python"
    }
  },
  "cells": [
    {
      "cell_type": "markdown",
      "metadata": {
        "id": "view-in-github",
        "colab_type": "text"
      },
      "source": [
        "<a href=\"https://colab.research.google.com/github/artjow/-AI-/blob/main/%EC%9D%B4%EB%A1%A0/Vanilla_GAN_.ipynb\" target=\"_parent\"><img src=\"https://colab.research.google.com/assets/colab-badge.svg\" alt=\"Open In Colab\"/></a>"
      ]
    },
    {
      "cell_type": "code",
      "metadata": {
        "colab": {
          "base_uri": "https://localhost:8080/",
          "height": 17
        },
        "id": "Qo14bgmcCI_v",
        "outputId": "140254a6-7dbc-463c-cb9f-a6e6035f6c96"
      },
      "source": [
        "%%javascript\n",
        "IPython.OutputArea.auto_scroll_threshold = 9999;"
      ],
      "execution_count": null,
      "outputs": [
        {
          "output_type": "display_data",
          "data": {
            "application/javascript": [
              "IPython.OutputArea.auto_scroll_threshold = 9999;"
            ],
            "text/plain": [
              "<IPython.core.display.Javascript object>"
            ]
          },
          "metadata": {
            "tags": []
          }
        }
      ]
    },
    {
      "cell_type": "code",
      "metadata": {
        "id": "9lMiOL63Ct58"
      },
      "source": [
        "from tensorflow.keras.datasets import mnist"
      ],
      "execution_count": null,
      "outputs": []
    },
    {
      "cell_type": "code",
      "metadata": {
        "id": "_PBMN_0ACudr"
      },
      "source": [
        "(x_train, y_train), (x_test, y_test) = mnist.load_data()"
      ],
      "execution_count": null,
      "outputs": []
    },
    {
      "cell_type": "code",
      "metadata": {
        "id": "fkpPfHtDC0F0"
      },
      "source": [
        "'''\n",
        "generator에서 tanh를 activation으로 활용\n",
        "\n",
        "tanh를 활용하면 output이 -1 ~ 1 사이로 나오기 때문에 Normalize를 해줄 때 127.5로 나눈 뒤 1을 빼줍니다.\n",
        "'''\n",
        "x_train = x_train / 127.5 - 1\n",
        "x_test = x_test / 127.5 - 1"
      ],
      "execution_count": null,
      "outputs": []
    },
    {
      "cell_type": "code",
      "metadata": {
        "colab": {
          "base_uri": "https://localhost:8080/"
        },
        "id": "TaS7CKVoDHUE",
        "outputId": "020c019d-e733-4fe1-849c-31fc70a35dca"
      },
      "source": [
        "#min 값과 max 값이 -1 ~ 1사이의 범위를 가져야 한다.\n",
        "x_train.min(), x_train.max()"
      ],
      "execution_count": null,
      "outputs": [
        {
          "output_type": "execute_result",
          "data": {
            "text/plain": [
              "(-1.0, 1.0)"
            ]
          },
          "metadata": {
            "tags": []
          },
          "execution_count": 12
        }
      ]
    },
    {
      "cell_type": "code",
      "metadata": {
        "colab": {
          "base_uri": "https://localhost:8080/"
        },
        "id": "--pzcx1HDSiY",
        "outputId": "6c7f7092-c397-4ae1-817e-d569b8be514c"
      },
      "source": [
        "#x_train 값은 현재 28 * 28로 되어 있다. 이를 Flatten하게 펴준다.\n",
        "x_train = x_train.reshape(-1, 784)\n",
        "x_train.shape"
      ],
      "execution_count": null,
      "outputs": [
        {
          "output_type": "execute_result",
          "data": {
            "text/plain": [
              "(60000, 784)"
            ]
          },
          "metadata": {
            "tags": []
          },
          "execution_count": 13
        }
      ]
    },
    {
      "cell_type": "code",
      "metadata": {
        "id": "BhtLjCDADcly"
      },
      "source": [
        "#필요한 모듈을 import \n",
        "from tensorflow.keras.layers import Dense, LeakyReLU, Dropout, Input\n",
        "from tensorflow.keras.models import Sequential, Model\n",
        "from tensorflow.keras.optimizers import Adam\n",
        "from tensorflow.keras.initializers import RandomNormal\n",
        "import numpy as np\n",
        "import matplotlib.pyplot as plt"
      ],
      "execution_count": null,
      "outputs": []
    },
    {
      "cell_type": "code",
      "metadata": {
        "colab": {
          "base_uri": "https://localhost:8080/",
          "height": 151
        },
        "id": "YLQ5GdQGDjNL",
        "outputId": "d44e499d-6a72-4aa6-ad1c-a15e041897c5"
      },
      "source": [
        "'''\n",
        "Hyperparameters\n",
        "\n",
        "NOISE_DIM을 정의 한다.\n",
        "NOISE_DIM은 자유롭게 설정할 수 있으며, generator의 input으로 들어간다.\n",
        ",,,"
      ],
      "execution_count": null,
      "outputs": [
        {
          "output_type": "error",
          "ename": "SyntaxError",
          "evalue": "ignored",
          "traceback": [
            "\u001b[0;36m  File \u001b[0;32m\"<ipython-input-16-385872b3ad07>\"\u001b[0;36m, line \u001b[0;32m6\u001b[0m\n\u001b[0;31m    ,,,\u001b[0m\n\u001b[0m       \n^\u001b[0m\n\u001b[0;31mSyntaxError\u001b[0m\u001b[0;31m:\u001b[0m EOF while scanning triple-quoted string literal\n"
          ]
        }
      ]
    },
    {
      "cell_type": "code",
      "metadata": {
        "colab": {
          "base_uri": "https://localhost:8080/"
        },
        "id": "c7eqeOGqD-xa",
        "outputId": "36d4d6f6-ac48-412c-a844-5afb4db44eca"
      },
      "source": [
        "# gan에 입력되는 noise에 대한 dimension\n",
        "NOISE_DIM = 10\n",
        "\n",
        "# adam optimizer 정의, learning_rate = 0.0002, beta_1로 준다.\n",
        "# Vanilla Gan과 DCGAN세팅(학습이 잘된다고 함)\n",
        "adam = Adam(lr=0.0002, beta_1=0.5)"
      ],
      "execution_count": null,
      "outputs": [
        {
          "output_type": "stream",
          "text": [
            "/usr/local/lib/python3.7/dist-packages/tensorflow/python/keras/optimizer_v2/optimizer_v2.py:375: UserWarning: The `lr` argument is deprecated, use `learning_rate` instead.\n",
            "  \"The `lr` argument is deprecated, use `learning_rate` instead.\")\n"
          ],
          "name": "stderr"
        }
      ]
    },
    {
      "cell_type": "code",
      "metadata": {
        "id": "k5PnrJkuEcUV"
      },
      "source": [
        "# Generator 정의\n",
        "\n",
        "generator = Sequential([\n",
        "    Dense(256, input_dim=NOISE_DIM), \n",
        "    LeakyReLU(0.2), \n",
        "    Dense(512), \n",
        "    LeakyReLU(0.2), \n",
        "    Dense(1024), \n",
        "    LeakyReLU(0.2), \n",
        "    Dense(28*28, activation='tanh'),\n",
        "])"
      ],
      "execution_count": null,
      "outputs": []
    },
    {
      "cell_type": "code",
      "metadata": {
        "colab": {
          "base_uri": "https://localhost:8080/"
        },
        "id": "1Y5He3-3EhHB",
        "outputId": "474ff7c1-9a8f-4219-b262-850ce153bb56"
      },
      "source": [
        "generator.summary()"
      ],
      "execution_count": null,
      "outputs": [
        {
          "output_type": "stream",
          "text": [
            "Model: \"sequential\"\n",
            "_________________________________________________________________\n",
            "Layer (type)                 Output Shape              Param #   \n",
            "=================================================================\n",
            "dense (Dense)                (None, 256)               2816      \n",
            "_________________________________________________________________\n",
            "leaky_re_lu (LeakyReLU)      (None, 256)               0         \n",
            "_________________________________________________________________\n",
            "dense_1 (Dense)              (None, 512)               131584    \n",
            "_________________________________________________________________\n",
            "leaky_re_lu_1 (LeakyReLU)    (None, 512)               0         \n",
            "_________________________________________________________________\n",
            "dense_2 (Dense)              (None, 1024)              525312    \n",
            "_________________________________________________________________\n",
            "leaky_re_lu_2 (LeakyReLU)    (None, 1024)              0         \n",
            "_________________________________________________________________\n",
            "dense_3 (Dense)              (None, 784)               803600    \n",
            "=================================================================\n",
            "Total params: 1,463,312\n",
            "Trainable params: 1,463,312\n",
            "Non-trainable params: 0\n",
            "_________________________________________________________________\n"
          ],
          "name": "stdout"
        }
      ]
    },
    {
      "cell_type": "code",
      "metadata": {
        "id": "SVGuzJAHEtM4"
      },
      "source": [
        "# Discriminator정의\n",
        "discriminator = Sequential([\n",
        "    Dense(1024, input_shape=(784,), kernel_initializer=RandomNormal(stddev=0.02)),\n",
        "    LeakyReLU(0.2), \n",
        "    Dropout(0.3), \n",
        "    Dense(512),\n",
        "    LeakyReLU(0.2), \n",
        "    Dropout(0.3), \n",
        "    Dense(256),\n",
        "    LeakyReLU(0.2), \n",
        "    Dropout(0.3), \n",
        "    Dense(1, activation='sigmoid')\n",
        "])"
      ],
      "execution_count": null,
      "outputs": []
    },
    {
      "cell_type": "code",
      "metadata": {
        "colab": {
          "base_uri": "https://localhost:8080/"
        },
        "id": "9BEkdNzJE1Ee",
        "outputId": "443677b9-15d4-4db4-f87c-3e32a3c52170"
      },
      "source": [
        "discriminator.summary()"
      ],
      "execution_count": null,
      "outputs": [
        {
          "output_type": "stream",
          "text": [
            "Model: \"sequential_1\"\n",
            "_________________________________________________________________\n",
            "Layer (type)                 Output Shape              Param #   \n",
            "=================================================================\n",
            "dense_4 (Dense)              (None, 1024)              803840    \n",
            "_________________________________________________________________\n",
            "leaky_re_lu_3 (LeakyReLU)    (None, 1024)              0         \n",
            "_________________________________________________________________\n",
            "dropout (Dropout)            (None, 1024)              0         \n",
            "_________________________________________________________________\n",
            "dense_5 (Dense)              (None, 512)               524800    \n",
            "_________________________________________________________________\n",
            "leaky_re_lu_4 (LeakyReLU)    (None, 512)               0         \n",
            "_________________________________________________________________\n",
            "dropout_1 (Dropout)          (None, 512)               0         \n",
            "_________________________________________________________________\n",
            "dense_6 (Dense)              (None, 256)               131328    \n",
            "_________________________________________________________________\n",
            "leaky_re_lu_5 (LeakyReLU)    (None, 256)               0         \n",
            "_________________________________________________________________\n",
            "dropout_2 (Dropout)          (None, 256)               0         \n",
            "_________________________________________________________________\n",
            "dense_7 (Dense)              (None, 1)                 257       \n",
            "=================================================================\n",
            "Total params: 1,460,225\n",
            "Trainable params: 1,460,225\n",
            "Non-trainable params: 0\n",
            "_________________________________________________________________\n"
          ],
          "name": "stdout"
        }
      ]
    },
    {
      "cell_type": "code",
      "metadata": {
        "id": "6VuAawe0E3_A"
      },
      "source": [
        "#반드시 dicriminator를 compile 해주어야 합니다.\n",
        "discriminator.compile(loss='binary_crossentropy', optimizer=adam)"
      ],
      "execution_count": null,
      "outputs": []
    },
    {
      "cell_type": "code",
      "metadata": {
        "id": "64Jb6CkCE_eM"
      },
      "source": [
        "#Gan\n",
        "#generator와 discriminator를 연결한다.\n",
        "# discriminator는 학습을 하지 않도록 하며, Gan 모델에서는 generator만 학습하도록 한다.\n",
        "discriminator.trainable = False\n",
        "gan_input = Input(shape=(NOISE_DIM,))\n",
        "x = generator(inputs=gan_input)\n",
        "output = discriminator(x)\n"
      ],
      "execution_count": null,
      "outputs": []
    },
    {
      "cell_type": "code",
      "metadata": {
        "id": "VQG4Nk6FFRfO"
      },
      "source": [
        "#gan 모델을 정의\n",
        "gan = Model(gan_input, output)"
      ],
      "execution_count": null,
      "outputs": []
    },
    {
      "cell_type": "code",
      "metadata": {
        "colab": {
          "base_uri": "https://localhost:8080/"
        },
        "id": "nXgY2FZ4FZDc",
        "outputId": "bfede2ea-6109-4dd1-82cf-fe90e0e02f38"
      },
      "source": [
        "gan.summary()"
      ],
      "execution_count": null,
      "outputs": [
        {
          "output_type": "stream",
          "text": [
            "Model: \"model\"\n",
            "_________________________________________________________________\n",
            "Layer (type)                 Output Shape              Param #   \n",
            "=================================================================\n",
            "input_1 (InputLayer)         [(None, 10)]              0         \n",
            "_________________________________________________________________\n",
            "sequential (Sequential)      (None, 784)               1463312   \n",
            "_________________________________________________________________\n",
            "sequential_1 (Sequential)    (None, 1)                 1460225   \n",
            "=================================================================\n",
            "Total params: 2,923,537\n",
            "Trainable params: 1,463,312\n",
            "Non-trainable params: 1,460,225\n",
            "_________________________________________________________________\n"
          ],
          "name": "stdout"
        }
      ]
    },
    {
      "cell_type": "code",
      "metadata": {
        "id": "A36F2ZKCFbkH"
      },
      "source": [
        "#Compile\n",
        "gan.compile(loss='binary_crossentropy', optimizer=adam)"
      ],
      "execution_count": null,
      "outputs": []
    },
    {
      "cell_type": "code",
      "metadata": {
        "id": "Xlh6ivspFhYR"
      },
      "source": [
        "#Batch\n",
        "#MNIST 이미지 batch가 차례대로 생성된다.\n",
        "def get_batches(data, batch_size):\n",
        "    batches = []\n",
        "    for i in range(int(data.shape[0] // batch_size)):\n",
        "        batch = data[i * batch_size: (i + 1) * batch_size]\n",
        "        batches.append(batch)\n",
        "    return np.asarray(batches)"
      ],
      "execution_count": null,
      "outputs": []
    },
    {
      "cell_type": "code",
      "metadata": {
        "id": "Wt5SauHxFvcY"
      },
      "source": [
        "#시각화를 위한 유틸 함수 정의\n",
        "def visualize_training(epoch, d_losses, g_losses):\n",
        "    # 오차에 대한 시각화\n",
        "    plt.figure(figsize=(8, 4))\n",
        "    plt.plot(d_losses, label='Discriminator Loss')\n",
        "    plt.plot(g_losses, label='Generatror Loss')\n",
        "    plt.xlabel('Epoch')\n",
        "    plt.ylabel('Loss')\n",
        "    plt.legend()\n",
        "    plt.show()\n",
        "\n",
        "    print('epoch: {}, Discriminator Loss: {}, Generator Loss: {}'.format(epoch, np.asarray(d_losses).mean(), np.asarray(g_losses).mean()))\n",
        "    \n",
        "    #샘플 데이터 생성 후 시각화\n",
        "    noise = np.random.normal(0, 1, size=(24, NOISE_DIM))\n",
        "    generated_images = generator.predict(noise)\n",
        "    generated_images = generated_images.reshape(-1, 28, 28)\n",
        "    \n",
        "    plt.figure(figsize=(8, 4))\n",
        "    for i in range(generated_images.shape[0]):\n",
        "        plt.subplot(4, 6, i+1)\n",
        "        plt.imshow(generated_images[i], interpolation='nearest', cmap='gray')\n",
        "        plt.axis('off')\n",
        "    plt.tight_layout()\n",
        "    plt.show()"
      ],
      "execution_count": null,
      "outputs": []
    },
    {
      "cell_type": "code",
      "metadata": {
        "id": "p6QGcefmF_F1"
      },
      "source": [
        "#학습\n",
        "BATCH_SIZE = 128\n",
        "EPOCHS= 50"
      ],
      "execution_count": null,
      "outputs": []
    },
    {
      "cell_type": "code",
      "metadata": {
        "colab": {
          "base_uri": "https://localhost:8080/",
          "height": 1000
        },
        "id": "JAZLuMNlGDrV",
        "outputId": "d6222599-cab8-4f23-88e9-117e6419a3b5"
      },
      "source": [
        "# discriminator와 gan 모델의 loss 측정을 위한 list \n",
        "d_losses = []\n",
        "g_losses = []\n",
        "\n",
        "for epoch in range(1, EPOCHS + 1):\n",
        "    # 각 배치별 학습\n",
        "    for real_images in get_batches(x_train, BATCH_SIZE):\n",
        "        # 랜덤 노이즈 생성\n",
        "        input_noise = np.random.uniform(-1, 1, size=[BATCH_SIZE, NOISE_DIM])\n",
        "        \n",
        "        # 가짜 이미지 데이터 생성\n",
        "        generated_images = generator.predict(input_noise)\n",
        "        \n",
        "        # Gan에 학습할 X 데이터 정의\n",
        "        x_dis = np.concatenate([real_images, generated_images])\n",
        "        \n",
        "        # Gan에 학습할 Y 데이터 정의\n",
        "        y_dis = np.zeros(2 * BATCH_SIZE)\n",
        "        y_dis[:BATCH_SIZE] = 0.9\n",
        "        \n",
        "        # Discriminator 훈련\n",
        "        discriminator.trainable = True\n",
        "        d_loss = discriminator.train_on_batch(x_dis, y_dis)\n",
        "        \n",
        "        # Gan 훈련\n",
        "        noise = np.random.uniform(-1, 1, size=[BATCH_SIZE, NOISE_DIM])\n",
        "        y_gan = np.ones(BATCH_SIZE)\n",
        "        \n",
        "        # Discriminator의 판별 학습을 방지한다.\n",
        "        discriminator.trainable = False\n",
        "        g_loss = gan.train_on_batch(noise, y_gan)\n",
        "        \n",
        "    d_losses.append(d_loss)\n",
        "    g_losses.append(g_loss)\n",
        "    \n",
        "    if epoch == 1 or epoch % 5 == 0:\n",
        "        visualize_training(epoch, d_losses, g_losses)"
      ],
      "execution_count": null,
      "outputs": [
        {
          "output_type": "display_data",
          "data": {
            "image/png": "[encoded data removed]",
            "text/plain": [
              "<Figure size 576x288 with 1 Axes>"
            ]
          },
          "metadata": {
            "tags": [],
            "needs_background": "light"
          }
        },
        {
          "output_type": "stream",
          "text": [
            "epoch: 1, Discriminator Loss: 0.5142294764518738, Generator Loss: 1.5757125616073608\n"
          ],
          "name": "stdout"
        },
        {
          "output_type": "display_data",
          "data": {
            "image/png": "[encoded data removed]",
            "text/plain": [
              "<Figure size 576x288 with 24 Axes>"
            ]
          },
          "metadata": {
            "tags": [],
            "needs_background": "light"
          }
        },
        {
          "output_type": "display_data",
          "data": {
            "image/png": "[encoded data removed]",
            "text/plain": [
              "<Figure size 576x288 with 1 Axes>"
            ]
          },
          "metadata": {
            "tags": [],
            "needs_background": "light"
          }
        },
        {
          "output_type": "stream",
          "text": [
            "epoch: 5, Discriminator Loss: 0.40162994265556334, Generator Loss: 2.223816728591919\n"
          ],
          "name": "stdout"
        },
        {
          "output_type": "display_data",
          "data": {
            "image/png": "[encoded data removed]",
            "text/plain": [
              "<Figure size 576x288 with 24 Axes>"
            ]
          },
          "metadata": {
            "tags": [],
            "needs_background": "light"
          }
        }
      ]
    },
    {
      "cell_type": "code",
      "metadata": {
        "id": "FNiTqfmRGIyC"
      },
      "source": [
        ""
      ],
      "execution_count": null,
      "outputs": []
    }
  ]
}