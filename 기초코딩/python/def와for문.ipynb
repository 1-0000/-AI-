{
  "nbformat": 4,
  "nbformat_minor": 0,
  "metadata": {
    "colab": {
      "name": "def와for문.ipynb",
      "provenance": []
    },
    "kernelspec": {
      "name": "python3",
      "display_name": "Python 3"
    },
    "language_info": {
      "name": "python"
    }
  },
  "cells": [
    {
      "cell_type": "markdown",
      "metadata": {
        "id": "t8aRAAQyViCA"
      },
      "source": [
        "#def 함수"
      ]
    },
    {
      "cell_type": "code",
      "metadata": {
        "colab": {
          "base_uri": "https://localhost:8080/"
        },
        "id": "u64Z7OHj8uSN",
        "outputId": "6830c5de-7775-4fc5-daec-6b2f7e70e797"
      },
      "source": [
        "def func1():    # def 함수의 이름(); 함수 정의의 시작, 함수호출\n",
        "    print('BlockDMask')\n",
        "\n",
        "func1()"
      ],
      "execution_count": 3,
      "outputs": [
        {
          "output_type": "stream",
          "text": [
            "BlockDMask\n"
          ],
          "name": "stdout"
        }
      ]
    },
    {
      "cell_type": "code",
      "metadata": {
        "colab": {
          "base_uri": "https://localhost:8080/"
        },
        "id": "x1hNARVq9AMF",
        "outputId": "90501ea2-dcf1-4e95-e8f1-040c902d4383"
      },
      "source": [
        "'''\n",
        "def 함수이름(매개변수1, 매개변수2, ... ): \n",
        "    수행문장\n",
        "'''\n",
        "def func2(a, b):   #a,b는 매개변수\n",
        "    print(f'{a} 곱하기 {b} = {a * b}') # 수행문장\n",
        " \n",
        "func2(1, 2) #1,2를 인수라고 함\n",
        "func2(1, 3)\n",
        "func2(2, 4)\n"
      ],
      "execution_count": 4,
      "outputs": [
        {
          "output_type": "stream",
          "text": [
            "1 곱하기 2 = 2\n",
            "1 곱하기 3 = 3\n",
            "2 곱하기 4 = 8\n"
          ],
          "name": "stdout"
        }
      ]
    },
    {
      "cell_type": "code",
      "metadata": {
        "colab": {
          "base_uri": "https://localhost:8080/"
        },
        "id": "aCSresXK-TWe",
        "outputId": "39150ec8-c398-4032-a243-45a737939563"
      },
      "source": [
        "'''\n",
        "def 함수이름():\n",
        "    수행문장\n",
        "    return 반환값\n",
        "'''\n",
        "\n",
        "def func3():\n",
        "    return \"abcdefg\"\n",
        " \n",
        "a = func3()    # func3() 함수를 호출하고 그 앞에 = 을 통해서 변수를 선언, 변수 a를 통해서 func3()의 반환 값을 이용가능\n",
        "print(a + \"GG\")"
      ],
      "execution_count": 5,
      "outputs": [
        {
          "output_type": "stream",
          "text": [
            "abcdefgGG\n"
          ],
          "name": "stdout"
        }
      ]
    },
    {
      "cell_type": "code",
      "metadata": {
        "colab": {
          "base_uri": "https://localhost:8080/"
        },
        "id": "AIJRHDre_USk",
        "outputId": "0b83c6db-d492-4630-cc2c-023288b25d49"
      },
      "source": [
        "'''\n",
        "def 함수이름(매개변수1, 매개변수2 ...):\n",
        "    수행문장\n",
        "    return 반환값\n",
        "'''\n",
        "\n",
        "def func4(a, b):\n",
        "    return a * b\n",
        " \n",
        " \n",
        "c = func4(3, 9)\n",
        "print(c)\n"
      ],
      "execution_count": 6,
      "outputs": [
        {
          "output_type": "stream",
          "text": [
            "27\n"
          ],
          "name": "stdout"
        }
      ]
    },
    {
      "cell_type": "code",
      "metadata": {
        "colab": {
          "base_uri": "https://localhost:8080/"
        },
        "id": "d8reWDQ_AWHl",
        "outputId": "aff2d393-1b5f-473c-853a-bbc82d470be4"
      },
      "source": [
        "# 구구단 함수 버전\n",
        "def gugudan(num):\n",
        "    for i in range(1, 10):\n",
        "        print(f'{num} x {i} = {num * i}')\n",
        " \n",
        "# 구구단 출력\n",
        "gugudan(2)\n",
        "gugudan(3)\n",
        "# ...\n",
        "gugudan(9)"
      ],
      "execution_count": 7,
      "outputs": [
        {
          "output_type": "stream",
          "text": [
            "2 x 1 = 2\n",
            "2 x 2 = 4\n",
            "2 x 3 = 6\n",
            "2 x 4 = 8\n",
            "2 x 5 = 10\n",
            "2 x 6 = 12\n",
            "2 x 7 = 14\n",
            "2 x 8 = 16\n",
            "2 x 9 = 18\n",
            "3 x 1 = 3\n",
            "3 x 2 = 6\n",
            "3 x 3 = 9\n",
            "3 x 4 = 12\n",
            "3 x 5 = 15\n",
            "3 x 6 = 18\n",
            "3 x 7 = 21\n",
            "3 x 8 = 24\n",
            "3 x 9 = 27\n",
            "9 x 1 = 9\n",
            "9 x 2 = 18\n",
            "9 x 3 = 27\n",
            "9 x 4 = 36\n",
            "9 x 5 = 45\n",
            "9 x 6 = 54\n",
            "9 x 7 = 63\n",
            "9 x 8 = 72\n",
            "9 x 9 = 81\n"
          ],
          "name": "stdout"
        }
      ]
    },
    {
      "cell_type": "code",
      "metadata": {
        "colab": {
          "base_uri": "https://localhost:8080/"
        },
        "id": "4erfxV2hBOer",
        "outputId": "9eafb1ca-5305-4083-86ed-c4ba7633b21c"
      },
      "source": [
        "# * :  여러 개의 인수를 받을 때, 키워드 인수를 받을 때 사용\n",
        "\n",
        "def func6(*args): #args는 아규먼트(arguments)의 축약어, N개의 매개변수를 표현할때 args를 사용\n",
        "    a = 0\n",
        "    for i in args: \n",
        "        a = a + i\n",
        "    return a\n",
        " \n",
        " \n",
        "b = func6(1, 2)\n",
        "print(b)\n",
        " \n",
        "c = func6(2, 3, 4, 5)\n",
        "print(c)\n",
        " \n",
        "d = func6(1, 2, 3, 4, 5, 4, 3, 2, 1)\n",
        "print(d)\n",
        " \n",
        "e = func6()\n",
        "print(e)"
      ],
      "execution_count": 9,
      "outputs": [
        {
          "output_type": "stream",
          "text": [
            "3\n",
            "14\n",
            "25\n",
            "0\n"
          ],
          "name": "stdout"
        }
      ]
    },
    {
      "cell_type": "markdown",
      "metadata": {
        "id": "404ZWtFNVrTr"
      },
      "source": [
        "# for문"
      ]
    },
    {
      "cell_type": "code",
      "metadata": {
        "colab": {
          "base_uri": "https://localhost:8080/"
        },
        "id": "l9kLb69_CAoX",
        "outputId": "9d49c3b7-ff54-4a46-df03-8baf48afb508"
      },
      "source": [
        "'''\n",
        "for문의 기본구조\n",
        "\n",
        "for 변수 in 리스트(또는 튜플, 문자열):\n",
        "    수행할 문장1\n",
        "    수행할 문장2\n",
        "    ...\n",
        "\n",
        "['one', 'two', 'three'] 리스트의 첫 번째 요소인 'one'이 \n",
        "먼저 i 변수에 대입된 후 print(i) 문장을 수행한다. \n",
        "다음에 두 번째 요소 'two'가 i 변수에 대입된 후 print(i) 문장을 \n",
        "수행하고 리스트의 마지막 요소까지 이것을 반복한다.\n",
        "\n",
        "'''\n",
        "\n",
        "test_list = ['one', 'two', 'three'] \n",
        "for i in test_list: \n",
        "     print(i)"
      ],
      "execution_count": 12,
      "outputs": [
        {
          "output_type": "stream",
          "text": [
            "one\n",
            "two\n",
            "three\n"
          ],
          "name": "stdout"
        }
      ]
    },
    {
      "cell_type": "code",
      "metadata": {
        "colab": {
          "base_uri": "https://localhost:8080/"
        },
        "id": "HYD_yrkLepOQ",
        "outputId": "ae6d5840-8bd8-43bd-d5f7-5e4418b1cb2f"
      },
      "source": [
        "'''\n",
        "a 리스트의 요솟값이 튜플이기 때문에 각각의 요소가 \n",
        "자동으로 (first, last) 변수에 대입된다.\n",
        "'''\n",
        "\n",
        "a = [(1,2), (3,4), (5,6)]\n",
        "for (first, last) in a:\n",
        "     print(first + last)"
      ],
      "execution_count": 14,
      "outputs": [
        {
          "output_type": "stream",
          "text": [
            "3\n",
            "7\n",
            "11\n"
          ],
          "name": "stdout"
        }
      ]
    },
    {
      "cell_type": "code",
      "metadata": {
        "id": "djgPauO9fOtq"
      },
      "source": [
        "# for문의 응용\n",
        "\"총 5명의 학생이 시험을 보았는데 시험 점수가 60점이 넘으면 합격이고\n",
        "그렇지 않으면 불합격이다. 합격인지 불합격인지 결과를 보여 주시오.\""
      ],
      "execution_count": null,
      "outputs": []
    },
    {
      "cell_type": "code",
      "metadata": {
        "id": "BaT7_aH_fxDy"
      },
      "source": [
        "#5명의 시험 점수 리스트\n",
        "score = [90, 25, 67, 45, 80]"
      ],
      "execution_count": 15,
      "outputs": []
    },
    {
      "cell_type": "code",
      "metadata": {
        "colab": {
          "base_uri": "https://localhost:8080/"
        },
        "id": "iHZeJQaYf0Jq",
        "outputId": "7e4f24f1-fe4c-4bee-f088-18a33f581ed8"
      },
      "source": [
        "'''\n",
        "각각의 학생에게 번호를 붙이기 위해 number 변수를 사용\n",
        "점수 리스트 score에서 차례로 점수를 꺼내어 score라는 변수에 대입하고 \n",
        "for문 안의 문장들을 수행한다. \n",
        "for문이 한 번씩 수행될 때마다 number는 1씩 증가한다.\n",
        "\n",
        "score가 60 이상일 때 합격 메시지를 출력하고 60을 넘지 않을 때 \n",
        "불합격 메시지를 출력한다.\n",
        "'''\n",
        "score1 = [90, 25, 67, 45, 80]\n",
        "\n",
        "number = 0 \n",
        "for score in score1: \n",
        "    number = number +1 \n",
        "    if list >= 60: \n",
        "        print(\"%d번 학생은 합격입니다.\" % number)\n",
        "    else: \n",
        "        print(\"%d번 학생은 불합격입니다.\" % number)\n"
      ],
      "execution_count": 19,
      "outputs": [
        {
          "output_type": "stream",
          "text": [
            "1번 학생은 합격입니다.\n",
            "2번 학생은 합격입니다.\n",
            "3번 학생은 합격입니다.\n",
            "4번 학생은 합격입니다.\n",
            "5번 학생은 합격입니다.\n"
          ],
          "name": "stdout"
        }
      ]
    },
    {
      "cell_type": "code",
      "metadata": {
        "colab": {
          "base_uri": "https://localhost:8080/"
        },
        "id": "WYvPiB5HgQUU",
        "outputId": "48158309-bbc5-45b1-9ad6-4f753d64d41d"
      },
      "source": [
        "'''\n",
        "for문과 continue\n",
        "\n",
        "while문에서 살펴본 continue문을 for문에서도 사용할 수 있다. \n",
        "즉 for문 안의 문장을 수행하는 도중에 continue문을 만나면 \n",
        "for문의 처음으로 돌아가게 된다.\n",
        "\n",
        "점수가 60점 이하인 학생일 경우에는 score < 60이 참이 되어 \n",
        "continue문이 수행된다. \n",
        "따라서 축하 메시지를 출력하는 부분인 print문을 수행하지 않고 \n",
        "for문의 처음으로 돌아가게 된다.\n",
        "'''\n",
        "\n",
        "score = [90, 25, 67, 45, 80]\n",
        "\n",
        "number = 0 \n",
        "for score in score1: \n",
        "    number = number +1 \n",
        "    if score < 60:\n",
        "        continue \n",
        "    print(\"%d번 학생 축하합니다. 합격입니다. \" % number)"
      ],
      "execution_count": 21,
      "outputs": [
        {
          "output_type": "stream",
          "text": [
            "1번 학생 축하합니다. 합격입니다. \n",
            "3번 학생 축하합니다. 합격입니다. \n",
            "5번 학생 축하합니다. 합격입니다. \n"
          ],
          "name": "stdout"
        }
      ]
    },
    {
      "cell_type": "code",
      "metadata": {
        "colab": {
          "base_uri": "https://localhost:8080/"
        },
        "id": "f0lGFkSzie0v",
        "outputId": "8c147d86-ab79-48d2-ad45-747bb95d9b5b"
      },
      "source": [
        "'''\n",
        "for문과 함께 자주 사용하는 range 함수\n",
        "\n",
        "range(10)은 0부터 10 미만의 숫자\n",
        "'''\n",
        "\n",
        "a = range(10) #시작 숫자와 끝 숫자를 지정하는 range(시작 숫자, 끝 숫자) 형태\n",
        "a\n",
        "range(0, 10)"
      ],
      "execution_count": 31,
      "outputs": [
        {
          "output_type": "execute_result",
          "data": {
            "text/plain": [
              "range(0, 10)"
            ]
          },
          "metadata": {
            "tags": []
          },
          "execution_count": 31
        }
      ]
    },
    {
      "cell_type": "code",
      "metadata": {
        "colab": {
          "base_uri": "https://localhost:8080/"
        },
        "id": "5qxCspZ3i8x7",
        "outputId": "d56e3f90-127c-4ca6-84ce-b37908c366e1"
      },
      "source": [
        "'''\n",
        "range(1, 11)은 숫자 1부터 10까지(1 이상 11 미만)의 숫자를 데이터로 갖는 객체\n",
        "i 변수에 리스트의 숫자가 1부터 10까지 하나씩 차례로 대입되면서 \n",
        "add = add + i 문장을 반복적으로 수행하고 \n",
        "add는 최종적으로 55가 된다.\n",
        "'''\n",
        "\n",
        "add = 0 \n",
        "for i in range(1, 11): \n",
        "     add = add + i \n",
        " \n",
        "print(add)"
      ],
      "execution_count": 33,
      "outputs": [
        {
          "output_type": "stream",
          "text": [
            "55\n"
          ],
          "name": "stdout"
        }
      ]
    },
    {
      "cell_type": "code",
      "metadata": {
        "colab": {
          "base_uri": "https://localhost:8080/"
        },
        "id": "2TI0AMrskVvv",
        "outputId": "1fa951ac-ba7b-4b6f-ad90-a182d494e7ba"
      },
      "source": [
        "'''\n",
        "len 함수는 리스트 안의 요소 개수를 돌려주는 함수이다. \n",
        "따라서 len(score1)는 5가 될 것이고 \n",
        "range(len(score1))는 range(5)가 될 것이다. \n",
        "number 변수에는 차례로 0부터 4까지의 숫자가 대입될 것이고, \n",
        "score1[number]는 차례대로 90, 25, 67, 45, 80 값을 갖게 된다. \n",
        "'''\n",
        "score = [90, 25, 67, 45, 80]\n",
        "for number in range(len(score1)):\n",
        "    if marks[number] < 60: \n",
        "        continue\n",
        "    print(\"%d번 학생 축하합니다. 합격입니다.\" % (number+1))"
      ],
      "execution_count": 35,
      "outputs": [
        {
          "output_type": "stream",
          "text": [
            "1번 학생 축하합니다. 합격입니다.\n",
            "3번 학생 축하합니다. 합격입니다.\n",
            "5번 학생 축하합니다. 합격입니다.\n"
          ],
          "name": "stdout"
        }
      ]
    },
    {
      "cell_type": "code",
      "metadata": {
        "colab": {
          "base_uri": "https://localhost:8080/"
        },
        "id": "0QvpUJ9jk3x3",
        "outputId": "ea66a9f6-218f-4e22-a6f3-958f7986d0f0"
      },
      "source": [
        "'''\n",
        "for문을 두 번 사용했다. ①번 for문에서 2부터 9까지의 숫자(range(2, 10))가 \n",
        "차례로 i에 대입된다. \n",
        "i가 처음 2일 때 ②번 for문을 만나게 된다. \n",
        "②번 for문에서 1부터 9까지의 숫자(range(1, 10))가 j에 대입되고 \n",
        "그다음 문장 print(i*j)를 수행한다.\n",
        "\n",
        "따라서 i가 2일 때 2*1, 2*2, 2*3, … 2*9까지 차례로 수행되며 \n",
        "그 값을 출력하게 된다. \n",
        "그 다음으로 i가 3일 때 역시 2일 때와 마찬가지로 수행될 것이고 \n",
        "i가 9일 때까지 계속 반복된다.\n",
        "'''\n",
        "\n",
        "for i in range(2,10):      # ①번 for문\n",
        "  for j in range(1, 10):   # ②번 for문\n",
        "    print(i*j, end=\" \") \n",
        "  print('') "
      ],
      "execution_count": 39,
      "outputs": [
        {
          "output_type": "stream",
          "text": [
            "2 4 6 8 10 12 14 16 18 \n",
            "3 6 9 12 15 18 21 24 27 \n",
            "4 8 12 16 20 24 28 32 36 \n",
            "5 10 15 20 25 30 35 40 45 \n",
            "6 12 18 24 30 36 42 48 54 \n",
            "7 14 21 28 35 42 49 56 63 \n",
            "8 16 24 32 40 48 56 64 72 \n",
            "9 18 27 36 45 54 63 72 81 \n"
          ],
          "name": "stdout"
        }
      ]
    },
    {
      "cell_type": "code",
      "metadata": {
        "id": "mEuqOMaLl6RU"
      },
      "source": [
        "'''\n",
        "[위에서 매개변수 end를 넣어 준 이유는]\n",
        "print(i*j, end=\" \")와 같이 매개변수 end를 넣어 준 이유는 \n",
        "해당 결괏값을 출력할 때 다음줄로 넘기지 않고 그 줄에 \n",
        "계속해서 출력하기 위해서이다. \n",
        "그다음에 이어지는 print(' ')는 2단, 3단 등을 구분하기 위해 \n",
        "두 번째 for문이 끝나면 결괏값을 다음 줄부터 출력하게 해주는 문장이다.\n",
        "'''"
      ],
      "execution_count": null,
      "outputs": []
    },
    {
      "cell_type": "code",
      "metadata": {
        "colab": {
          "base_uri": "https://localhost:8080/"
        },
        "id": "CVVReznzm4uX",
        "outputId": "483919d9-64ee-4842-fa95-c27b475dc432"
      },
      "source": [
        "'''\n",
        "a 리스트의 각 항목에 3을 곱한 결과를 result 리스트에 담는 경우\n",
        "for문 사용\n",
        "'''\n",
        "\n",
        "a = [1,2,3,4]\n",
        "result = [num * 3 for num in a]\n",
        "print(result)\n"
      ],
      "execution_count": 42,
      "outputs": [
        {
          "output_type": "stream",
          "text": [
            "[3, 6, 9, 12]\n"
          ],
          "name": "stdout"
        }
      ]
    },
    {
      "cell_type": "code",
      "metadata": {
        "colab": {
          "base_uri": "https://localhost:8080/"
        },
        "id": "n0lsaOt-m5nu",
        "outputId": "6e39fcef-3a27-4193-b178-ab0e96de05a5"
      },
      "source": [
        "'''\n",
        "[1,2,3,4] 중에서 짝수에만 3을 곱하여 담고 싶다면 \n",
        "리스트 내포 안에 \"if 조건\"을 사용할 수 있다.\n",
        "'''\n",
        "\n",
        "a = [1,2,3,4]\n",
        "result = [num * 3 for num in a if num % 2 == 0]\n",
        "print(result)\n"
      ],
      "execution_count": 47,
      "outputs": [
        {
          "output_type": "stream",
          "text": [
            "[6, 12]\n"
          ],
          "name": "stdout"
        }
      ]
    },
    {
      "cell_type": "code",
      "metadata": {
        "colab": {
          "base_uri": "https://localhost:8080/"
        },
        "id": "-3ghV5Kynl1A",
        "outputId": "4e02cefa-274e-49b4-dbf0-efe6acf68862"
      },
      "source": [
        "'''\n",
        " for문을 2개 이상 사용하는 경우\n",
        "\n",
        " [표현식 for 항목1 in 반복가능객체1 if 조건문1\n",
        "        for 항목2 in 반복가능객체2 if 조건문2\n",
        "        ...\n",
        "        for 항목n in 반복가능객체n if 조건문n]\n",
        "\n",
        ">>> 구구단의 예:\n",
        "'''\n",
        "\n",
        "result = [x*y for x in range(2,10)\n",
        "              for y in range(1,10)]\n",
        "print(result)"
      ],
      "execution_count": 51,
      "outputs": [
        {
          "output_type": "stream",
          "text": [
            "[2, 4, 6, 8, 10, 12, 14, 16, 18, 3, 6, 9, 12, 15, 18, 21, 24, 27, 4, 8, 12, 16, 20, 24, 28, 32, 36, 5, 10, 15, 20, 25, 30, 35, 40, 45, 6, 12, 18, 24, 30, 36, 42, 48, 54, 7, 14, 21, 28, 35, 42, 49, 56, 63, 8, 16, 24, 32, 40, 48, 56, 64, 72, 9, 18, 27, 36, 45, 54, 63, 72, 81]\n"
          ],
          "name": "stdout"
        }
      ]
    },
    {
      "cell_type": "code",
      "metadata": {
        "id": "QfRMlRstojsv"
      },
      "source": [
        ""
      ],
      "execution_count": null,
      "outputs": []
    }
  ]
}