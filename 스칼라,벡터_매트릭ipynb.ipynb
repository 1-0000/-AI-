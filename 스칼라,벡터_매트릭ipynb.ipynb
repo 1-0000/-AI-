{
  "nbformat": 4,
  "nbformat_minor": 0,
  "metadata": {
    "colab": {
      "name": "스칼라,벡터.매트릭ipynb",
      "provenance": [],
      "authorship_tag": "ABX9TyN0ewTrnzWKF0F80bxm/+DH",
      "include_colab_link": true
    },
    "kernelspec": {
      "name": "python3",
      "display_name": "Python 3"
    },
    "language_info": {
      "name": "python"
    }
  },
  "cells": [
    {
      "cell_type": "markdown",
      "metadata": {
        "id": "view-in-github",
        "colab_type": "text"
      },
      "source": [
        "<a href=\"https://colab.research.google.com/github/artjow/-AI-/blob/main/%EC%8A%A4%EC%B9%BC%EB%9D%BC%2C%EB%B2%A1%ED%84%B0_%EB%A7%A4%ED%8A%B8%EB%A6%ADipynb.ipynb\" target=\"_parent\"><img src=\"https://colab.research.google.com/assets/colab-badge.svg\" alt=\"Open In Colab\"/></a>"
      ]
    },
    {
      "cell_type": "code",
      "metadata": {
        "colab": {
          "base_uri": "https://localhost:8080/"
        },
        "id": "pvlj2pILCDr9",
        "outputId": "4372b98c-deb0-4a1e-9c1b-9e0ed80280db"
      },
      "source": [
        "#스칼라는 0차원\n",
        "import numpy as np\n",
        "x = np.array(1)\n",
        "x.ndim"
      ],
      "execution_count": 2,
      "outputs": [
        {
          "output_type": "execute_result",
          "data": {
            "text/plain": [
              "0"
            ]
          },
          "metadata": {
            "tags": []
          },
          "execution_count": 2
        }
      ]
    },
    {
      "cell_type": "code",
      "metadata": {
        "colab": {
          "base_uri": "https://localhost:8080/"
        },
        "id": "VmUFmabUCR6C",
        "outputId": "d029379f-197f-4197-d28f-c68a474cc9ec"
      },
      "source": [
        "# 1차원 벡터\n",
        "x = np.array([1,2,3,4,5])\n",
        "x.ndim"
      ],
      "execution_count": 11,
      "outputs": [
        {
          "output_type": "execute_result",
          "data": {
            "text/plain": [
              "1"
            ]
          },
          "metadata": {
            "tags": []
          },
          "execution_count": 11
        }
      ]
    },
    {
      "cell_type": "code",
      "metadata": {
        "colab": {
          "base_uri": "https://localhost:8080/"
        },
        "id": "9HCajhBfCu_-",
        "outputId": "c31119b7-ee39-458e-9586-732485b1992f"
      },
      "source": [
        "# matrix는 vector의 집합\n",
        "# ndim 은 배열이 몇 차 배열인지를 알려준다.\n",
        "\n",
        "x=np.array([[1,2,3],\n",
        "          [4,5,6],\n",
        "          [7,8,9]])\n",
        "x.ndim"
      ],
      "execution_count": 12,
      "outputs": [
        {
          "output_type": "execute_result",
          "data": {
            "text/plain": [
              "2"
            ]
          },
          "metadata": {
            "tags": []
          },
          "execution_count": 12
        }
      ]
    },
    {
      "cell_type": "code",
      "metadata": {
        "colab": {
          "base_uri": "https://localhost:8080/"
        },
        "id": "6fT1nrgFD_QT",
        "outputId": "bed33592-908f-4f5b-baef-a11d321bfb36"
      },
      "source": [
        "'''tensor란 matrix의 집합 \n",
        "따라서 tensor는 3차원 부터 시작\n",
        "'''\n",
        "x=np.array([[[1,2,3],[4,5,6]],[[1,2,3],[7,8,9]]])\n",
        "print(x)\n",
        "x.ndim"
      ],
      "execution_count": 13,
      "outputs": [
        {
          "output_type": "stream",
          "text": [
            "[[[1 2 3]\n",
            "  [4 5 6]]\n",
            "\n",
            " [[1 2 3]\n",
            "  [7 8 9]]]\n"
          ],
          "name": "stdout"
        },
        {
          "output_type": "execute_result",
          "data": {
            "text/plain": [
              "3"
            ]
          },
          "metadata": {
            "tags": []
          },
          "execution_count": 13
        }
      ]
    },
    {
      "cell_type": "code",
      "metadata": {
        "id": "9PzPNV88Fei2"
      },
      "source": [
        "1. Tensor는 배열의 집합이다.\n",
        "2. 차원의 수는 Rank와 같은말이다"
      ],
      "execution_count": null,
      "outputs": []
    }
  ]
}