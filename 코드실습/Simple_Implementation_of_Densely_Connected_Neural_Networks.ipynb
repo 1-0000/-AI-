{
  "nbformat": 4,
  "nbformat_minor": 0,
  "metadata": {
    "colab": {
      "name": "Simple_Implementation_of_Densely_Connected_Neural_Networks.ipynb",
      "provenance": [],
      "collapsed_sections": [],
      "include_colab_link": true
    },
    "kernelspec": {
      "name": "python3",
      "display_name": "Python 3"
    },
    "accelerator": "GPU",
    "widgets": {
      "application/vnd.jupyter.widget-state+json": {
        "9ba13ec1119d40c1ad95d2440165189e": {
          "model_module": "@jupyter-widgets/controls",
          "model_name": "HBoxModel",
          "state": {
            "_view_name": "HBoxView",
            "_dom_classes": [],
            "_model_name": "HBoxModel",
            "_view_module": "@jupyter-widgets/controls",
            "_model_module_version": "1.5.0",
            "_view_count": null,
            "_view_module_version": "1.5.0",
            "box_style": "",
            "layout": "IPY_MODEL_707a411f419c4cd2afced94d71f74ea1",
            "_model_module": "@jupyter-widgets/controls",
            "children": [
              "IPY_MODEL_b619193d34c14f6ba2467e4a30750458",
              "IPY_MODEL_ecf929d8b21243cda98c770d5c5bf685"
            ]
          }
        },
        "707a411f419c4cd2afced94d71f74ea1": {
          "model_module": "@jupyter-widgets/base",
          "model_name": "LayoutModel",
          "state": {
            "_view_name": "LayoutView",
            "grid_template_rows": null,
            "right": null,
            "justify_content": null,
            "_view_module": "@jupyter-widgets/base",
            "overflow": null,
            "_model_module_version": "1.2.0",
            "_view_count": null,
            "flex_flow": null,
            "width": null,
            "min_width": null,
            "border": null,
            "align_items": null,
            "bottom": null,
            "_model_module": "@jupyter-widgets/base",
            "top": null,
            "grid_column": null,
            "overflow_y": null,
            "overflow_x": null,
            "grid_auto_flow": null,
            "grid_area": null,
            "grid_template_columns": null,
            "flex": null,
            "_model_name": "LayoutModel",
            "justify_items": null,
            "grid_row": null,
            "max_height": null,
            "align_content": null,
            "visibility": null,
            "align_self": null,
            "height": null,
            "min_height": null,
            "padding": null,
            "grid_auto_rows": null,
            "grid_gap": null,
            "max_width": null,
            "order": null,
            "_view_module_version": "1.2.0",
            "grid_template_areas": null,
            "object_position": null,
            "object_fit": null,
            "grid_auto_columns": null,
            "margin": null,
            "display": null,
            "left": null
          }
        },
        "b619193d34c14f6ba2467e4a30750458": {
          "model_module": "@jupyter-widgets/controls",
          "model_name": "FloatProgressModel",
          "state": {
            "_view_name": "ProgressView",
            "style": "IPY_MODEL_93a3209ab5424f2780f606745367bbe4",
            "_dom_classes": [],
            "description": "",
            "_model_name": "FloatProgressModel",
            "bar_style": "success",
            "max": 170498071,
            "_view_module": "@jupyter-widgets/controls",
            "_model_module_version": "1.5.0",
            "value": 170498071,
            "_view_count": null,
            "_view_module_version": "1.5.0",
            "orientation": "horizontal",
            "min": 0,
            "description_tooltip": null,
            "_model_module": "@jupyter-widgets/controls",
            "layout": "IPY_MODEL_d13a2153abfa412e9411a3af263d4877"
          }
        },
        "ecf929d8b21243cda98c770d5c5bf685": {
          "model_module": "@jupyter-widgets/controls",
          "model_name": "HTMLModel",
          "state": {
            "_view_name": "HTMLView",
            "style": "IPY_MODEL_0192739064bc4539af5e4dcbf0ea79a5",
            "_dom_classes": [],
            "description": "",
            "_model_name": "HTMLModel",
            "placeholder": "​",
            "_view_module": "@jupyter-widgets/controls",
            "_model_module_version": "1.5.0",
            "value": " 170499072/? [03:20&lt;00:00, 849927.79it/s]",
            "_view_count": null,
            "_view_module_version": "1.5.0",
            "description_tooltip": null,
            "_model_module": "@jupyter-widgets/controls",
            "layout": "IPY_MODEL_6bef581da08640dd9ea6d6c79e367134"
          }
        },
        "93a3209ab5424f2780f606745367bbe4": {
          "model_module": "@jupyter-widgets/controls",
          "model_name": "ProgressStyleModel",
          "state": {
            "_view_name": "StyleView",
            "_model_name": "ProgressStyleModel",
            "description_width": "initial",
            "_view_module": "@jupyter-widgets/base",
            "_model_module_version": "1.5.0",
            "_view_count": null,
            "_view_module_version": "1.2.0",
            "bar_color": null,
            "_model_module": "@jupyter-widgets/controls"
          }
        },
        "d13a2153abfa412e9411a3af263d4877": {
          "model_module": "@jupyter-widgets/base",
          "model_name": "LayoutModel",
          "state": {
            "_view_name": "LayoutView",
            "grid_template_rows": null,
            "right": null,
            "justify_content": null,
            "_view_module": "@jupyter-widgets/base",
            "overflow": null,
            "_model_module_version": "1.2.0",
            "_view_count": null,
            "flex_flow": null,
            "width": null,
            "min_width": null,
            "border": null,
            "align_items": null,
            "bottom": null,
            "_model_module": "@jupyter-widgets/base",
            "top": null,
            "grid_column": null,
            "overflow_y": null,
            "overflow_x": null,
            "grid_auto_flow": null,
            "grid_area": null,
            "grid_template_columns": null,
            "flex": null,
            "_model_name": "LayoutModel",
            "justify_items": null,
            "grid_row": null,
            "max_height": null,
            "align_content": null,
            "visibility": null,
            "align_self": null,
            "height": null,
            "min_height": null,
            "padding": null,
            "grid_auto_rows": null,
            "grid_gap": null,
            "max_width": null,
            "order": null,
            "_view_module_version": "1.2.0",
            "grid_template_areas": null,
            "object_position": null,
            "object_fit": null,
            "grid_auto_columns": null,
            "margin": null,
            "display": null,
            "left": null
          }
        },
        "0192739064bc4539af5e4dcbf0ea79a5": {
          "model_module": "@jupyter-widgets/controls",
          "model_name": "DescriptionStyleModel",
          "state": {
            "_view_name": "StyleView",
            "_model_name": "DescriptionStyleModel",
            "description_width": "",
            "_view_module": "@jupyter-widgets/base",
            "_model_module_version": "1.5.0",
            "_view_count": null,
            "_view_module_version": "1.2.0",
            "_model_module": "@jupyter-widgets/controls"
          }
        },
        "6bef581da08640dd9ea6d6c79e367134": {
          "model_module": "@jupyter-widgets/base",
          "model_name": "LayoutModel",
          "state": {
            "_view_name": "LayoutView",
            "grid_template_rows": null,
            "right": null,
            "justify_content": null,
            "_view_module": "@jupyter-widgets/base",
            "overflow": null,
            "_model_module_version": "1.2.0",
            "_view_count": null,
            "flex_flow": null,
            "width": null,
            "min_width": null,
            "border": null,
            "align_items": null,
            "bottom": null,
            "_model_module": "@jupyter-widgets/base",
            "top": null,
            "grid_column": null,
            "overflow_y": null,
            "overflow_x": null,
            "grid_auto_flow": null,
            "grid_area": null,
            "grid_template_columns": null,
            "flex": null,
            "_model_name": "LayoutModel",
            "justify_items": null,
            "grid_row": null,
            "max_height": null,
            "align_content": null,
            "visibility": null,
            "align_self": null,
            "height": null,
            "min_height": null,
            "padding": null,
            "grid_auto_rows": null,
            "grid_gap": null,
            "max_width": null,
            "order": null,
            "_view_module_version": "1.2.0",
            "grid_template_areas": null,
            "object_position": null,
            "object_fit": null,
            "grid_auto_columns": null,
            "margin": null,
            "display": null,
            "left": null
          }
        }
      }
    }
  },
  "cells": [
    {
      "cell_type": "markdown",
      "metadata": {
        "id": "view-in-github",
        "colab_type": "text"
      },
      "source": [
        "<a href=\"https://colab.research.google.com/github/artjow/-AI-/blob/main/%EC%BD%94%EB%93%9C%EC%8B%A4%EC%8A%B5/Simple_Implementation_of_Densely_Connected_Neural_Networks.ipynb\" target=\"_parent\"><img src=\"https://colab.research.google.com/assets/colab-badge.svg\" alt=\"Open In Colab\"/></a>"
      ]
    },
    {
      "cell_type": "markdown",
      "metadata": {
        "id": "PsQPitv97yFa"
      },
      "source": [
        "## Check my blog post [here](https://goosemi.wordpress.com/) for a more detail explanation of this model."
      ]
    },
    {
      "cell_type": "code",
      "metadata": {
        "id": "yijKuHjI8ZRS",
        "colab": {
          "base_uri": "https://localhost:8080/"
        },
        "outputId": "dd4ecd9a-2587-49f5-f4e5-8c1fa8a6d4b0"
      },
      "source": [
        "# Install PyTorch(version 4) and torchvision libraries\n",
        "!pip install torch torchvision"
      ],
      "execution_count": null,
      "outputs": [
        {
          "output_type": "stream",
          "text": [
            "Requirement already satisfied: torch in /usr/local/lib/python3.7/dist-packages (1.9.0+cu102)\n",
            "Requirement already satisfied: torchvision in /usr/local/lib/python3.7/dist-packages (0.10.0+cu102)\n",
            "Requirement already satisfied: typing-extensions in /usr/local/lib/python3.7/dist-packages (from torch) (3.7.4.3)\n",
            "Requirement already satisfied: pillow>=5.3.0 in /usr/local/lib/python3.7/dist-packages (from torchvision) (7.1.2)\n",
            "Requirement already satisfied: numpy in /usr/local/lib/python3.7/dist-packages (from torchvision) (1.19.5)\n"
          ],
          "name": "stdout"
        }
      ]
    },
    {
      "cell_type": "code",
      "metadata": {
        "id": "JiaBkGkU207v"
      },
      "source": [
        "\"\"\"\n",
        "\tThe Network Class\n",
        "\"\"\"\n",
        "\n",
        "import torch\n",
        "import torch.nn as nn\n",
        "import math\n",
        "\n",
        "class Dense_Block(nn.Module):\n",
        "\tdef __init__(self, in_channels):\n",
        "\t\tsuper(Dense_Block, self).__init__()\n",
        "\n",
        "\t\tself.relu = nn.ReLU(inplace = True)\n",
        "\t\tself.bn = nn.BatchNorm2d(num_features = in_channels)\n",
        "\n",
        "\t\tself.conv1 = nn.Conv2d(in_channels = in_channels, out_channels = 32, kernel_size = 3, stride = 1, padding = 1)\n",
        "\t\tself.conv2 = nn.Conv2d(in_channels = 32, out_channels = 32, kernel_size = 3, stride = 1, padding = 1)\n",
        "\t\tself.conv3 = nn.Conv2d(in_channels = 64, out_channels = 32, kernel_size = 3, stride = 1, padding = 1)\n",
        "\t\tself.conv4 = nn.Conv2d(in_channels = 96, out_channels = 32, kernel_size = 3, stride = 1, padding = 1)\n",
        "\t\tself.conv5 = nn.Conv2d(in_channels = 128, out_channels = 32, kernel_size = 3, stride = 1, padding = 1)\n",
        "\n",
        "    \n",
        "\tdef forward(self, x):\n",
        "\n",
        "\t\tbn = self.bn(x)\n",
        "\t\tconv1 = self.relu(self.conv1(bn))\n",
        "\n",
        "\t\tconv2 = self.relu(self.conv2(conv1))\n",
        "\t\tc2_dense = self.relu(torch.cat([conv1, conv2], 1))\n",
        "\n",
        "\t\tconv3 = self.relu(self.conv3(c2_dense))\n",
        "\t\tc3_dense = self.relu(torch.cat([conv1, conv2, conv3], 1))\n",
        "\n",
        "\t\tconv4 = self.relu(self.conv4(c3_dense))\n",
        "\t\tc4_dense = self.relu(torch.cat([conv1, conv2, conv3, conv4], 1))\n",
        "\n",
        "\t\tconv5 = self.relu(self.conv5(c4_dense))\n",
        "\t\tc5_dense = self.relu(torch.cat([conv1, conv2, conv3, conv4, conv5], 1))\n",
        "\n",
        "\t\treturn c5_dense\n",
        "\n",
        "\n",
        "class Transition_Layer(nn.Module):\n",
        "\tdef __init__(self, in_channels, out_channels):\n",
        "\t\tsuper(Transition_Layer, self).__init__()\n",
        "\n",
        "\t\tself.relu = nn.ReLU(inplace = True)\n",
        "\t\tself.bn = nn.BatchNorm2d(num_features = out_channels)\n",
        "\t\tself.conv = nn.Conv2d(in_channels = in_channels, out_channels = out_channels, kernel_size = 1, bias = False)\n",
        "\t\tself.avg_pool = nn.AvgPool2d(kernel_size = 2, stride = 2, padding = 0)\n",
        "\n",
        "\tdef forward(self, x):\n",
        "\n",
        "\t\tbn = self.bn(self.relu(self.conv(x)))\n",
        "\t\tout = self.avg_pool(bn)\n",
        "\n",
        "\t\treturn out\n",
        "\n",
        "\n",
        "class DenseNet(nn.Module):\n",
        "\tdef __init__(self, nr_classes):\n",
        "\t\tsuper(DenseNet, self).__init__()\n",
        "\n",
        "\t\tself.lowconv = nn.Conv2d(in_channels = 3, out_channels = 64, kernel_size = 7, padding = 3, bias = False)\n",
        "\t\tself.relu = nn.ReLU()\n",
        "\n",
        "\t\t# Make Dense Blocks\n",
        "\t\tself.denseblock1 = self._make_dense_block(Dense_Block, 64)\n",
        "\t\tself.denseblock2 = self._make_dense_block(Dense_Block, 128)\n",
        "\t\tself.denseblock3 = self._make_dense_block(Dense_Block, 128)\n",
        "\n",
        "\t\t# Make transition Layers\n",
        "\t\tself.transitionLayer1 = self._make_transition_layer(Transition_Layer, in_channels = 160, out_channels = 128)\n",
        "\t\tself.transitionLayer2 = self._make_transition_layer(Transition_Layer, in_channels = 160, out_channels = 128)\n",
        "\t\tself.transitionLayer3 = self._make_transition_layer(Transition_Layer, in_channels = 160, out_channels = 64)\n",
        "\n",
        "\t\t# Classifier\n",
        "\t\tself.bn = nn.BatchNorm2d(num_features = 64)\n",
        "\t\tself.pre_classifier = nn.Linear(64*4*4, 512)\n",
        "\t\tself.classifier = nn.Linear(512, nr_classes)\n",
        "\n",
        "\tdef _make_dense_block(self, block, in_channels):\n",
        "\t\tlayers = []\n",
        "\t\tlayers.append(block(in_channels))\n",
        "\t\treturn nn.Sequential(*layers)\n",
        "\n",
        "\tdef _make_transition_layer(self, layer, in_channels, out_channels):\n",
        "\t\tmodules = []\n",
        "\t\tmodules.append(layer(in_channels, out_channels))\n",
        "\t\treturn nn.Sequential(*modules)\n",
        "\n",
        "\tdef forward(self, x):\n",
        "\t\tout = self.relu(self.lowconv(x))\n",
        "\n",
        "\t\tout = self.denseblock1(out)\n",
        "\t\tout = self.transitionLayer1(out)\n",
        "\n",
        "\t\tout = self.denseblock2(out)\n",
        "\t\tout = self.transitionLayer2(out)\n",
        "\n",
        "\t\tout = self.denseblock3(out)\n",
        "\t\tout = self.transitionLayer3(out)\n",
        "    \n",
        "\t\tout = self.bn(out)\n",
        "\t\tout = out.view(-1, 64*4*4)\n",
        "\n",
        "\t\tout = self.pre_classifier(out)\n",
        "\t\tout = self.classifier(out)\n",
        "\n",
        "\t\treturn out\n"
      ],
      "execution_count": null,
      "outputs": []
    },
    {
      "cell_type": "code",
      "metadata": {
        "id": "6UXxoDuR239p",
        "colab": {
          "base_uri": "https://localhost:8080/",
          "height": 119,
          "referenced_widgets": [
            "9ba13ec1119d40c1ad95d2440165189e",
            "707a411f419c4cd2afced94d71f74ea1",
            "b619193d34c14f6ba2467e4a30750458",
            "ecf929d8b21243cda98c770d5c5bf685",
            "93a3209ab5424f2780f606745367bbe4",
            "d13a2153abfa412e9411a3af263d4877",
            "0192739064bc4539af5e4dcbf0ea79a5",
            "6bef581da08640dd9ea6d6c79e367134"
          ]
        },
        "outputId": "e06a6ca8-9a75-42fa-e567-02d5ac1acfe7"
      },
      "source": [
        "import torch\n",
        "import torchvision\n",
        "import torchvision.transforms as transforms\n",
        "\n",
        "transform = transforms.Compose(\n",
        "    [transforms.ToTensor(),\n",
        "     transforms.Normalize((0.5, 0.5, 0.5), (0.5, 0.5, 0.5))])\n",
        "\n",
        "trainset = torchvision.datasets.CIFAR10(root='./data', train=True,\n",
        "                                        download=True, transform=transform)\n",
        "\n",
        "testset = torchvision.datasets.CIFAR10(root='./data', train=False,\n",
        "                                       download=True, transform=transform)\n",
        "\n",
        "classes = ('plane', 'car', 'bird', 'cat',\n",
        "           'deer', 'dog', 'frog', 'horse', 'ship', 'truck')"
      ],
      "execution_count": null,
      "outputs": [
        {
          "output_type": "stream",
          "text": [
            "Downloading https://www.cs.toronto.edu/~kriz/cifar-10-python.tar.gz to ./data/cifar-10-python.tar.gz\n"
          ],
          "name": "stdout"
        },
        {
          "output_type": "display_data",
          "data": {
            "application/vnd.jupyter.widget-view+json": {
              "model_id": "9ba13ec1119d40c1ad95d2440165189e",
              "version_minor": 0,
              "version_major": 2
            },
            "text/plain": [
              "HBox(children=(FloatProgress(value=0.0, max=170498071.0), HTML(value='')))"
            ]
          },
          "metadata": {
            "tags": []
          }
        },
        {
          "output_type": "stream",
          "text": [
            "\n",
            "Extracting ./data/cifar-10-python.tar.gz to ./data\n",
            "Files already downloaded and verified\n"
          ],
          "name": "stdout"
        }
      ]
    },
    {
      "cell_type": "code",
      "metadata": {
        "id": "M4b1u2BTBDus",
        "colab": {
          "base_uri": "https://localhost:8080/"
        },
        "outputId": "b723ebf7-a120-4743-8535-4de741d94eab"
      },
      "source": [
        "import time\n",
        "import torch.optim as optim\n",
        "from torch.autograd import Variable\n",
        "\n",
        "# GPU flag\n",
        "use_gpu = torch.cuda.is_available()\n",
        "\n",
        "# Hyperparameters\n",
        "batch_size = 10\n",
        "momentum = 0.95\n",
        "learning_rate = 0.001\n",
        "nr_classes = 10\n",
        "nr_epochs = 10\n",
        "loss_vctr = []\n",
        "\n",
        "# Load the model on the GPU\n",
        "densenet = DenseNet(nr_classes)\n",
        "if use_gpu:\n",
        "  densenet.cuda()\n",
        "\n",
        "# Data Loaders\n",
        "trainloader = torch.utils.data.DataLoader(trainset, batch_size=batch_size,\n",
        "                                          shuffle=True, num_workers=4)\n",
        "\n",
        "testloader = torch.utils.data.DataLoader(testset, batch_size=batch_size,\n",
        "                                         shuffle=False, num_workers=4)\n",
        "\n",
        "start = time.time()\n",
        "\n",
        "# Oprimization Criteria and Optimization method\n",
        "criterion = nn.CrossEntropyLoss().cuda() if use_gpu else nn.CrossEntropyLoss()\n",
        "optimizer = optim.SGD(densenet.parameters(), lr=learning_rate, momentum=momentum, nesterov = False)\n",
        "\n",
        "# Training Loop\n",
        "print(\"Start of the Optimization Processs..\")\n",
        "for epoch in range(nr_epochs):  \n",
        "\n",
        "    running_loss = 0.0\n",
        "    for i, data in enumerate(trainloader, 0):\n",
        "        # get the inputs\n",
        "        inputs, labels = data\n",
        "        inputs = Variable(inputs).cuda() \n",
        "        labels = Variable(labels).cuda()\n",
        "        \n",
        "        # zero the parameter gradients\n",
        "        optimizer.zero_grad()\n",
        "\n",
        "        # forward + backward + optimize\n",
        "        outputs = densenet(inputs)\n",
        "        loss = criterion(outputs, labels)\n",
        "        loss.backward()\n",
        "        optimizer.step()\n",
        "\n",
        "        # print statistics\n",
        "        running_loss += loss.item()\n",
        "        if i % 2000 == 1999:    # print every 2000 mini-batches\n",
        "            loss_vctr.append(running_loss / 2000)\n",
        "            print('[%d, %5d] loss: %.3f' %\n",
        "                  (epoch + 1, i + 1, running_loss / 2000))\n",
        "            running_loss = 0.0\n",
        "    \n",
        "print(\"^^^^^^^^^^^^^^^^^\")\n",
        "print('Finished Optimization.')\n",
        "end = time.time() # Time counted in seconds\n",
        "print(\"The total time to train the model on the K80 GPU is : {:.1f} minutes.\".format((end - start)/60))"
      ],
      "execution_count": null,
      "outputs": [
        {
          "output_type": "stream",
          "text": [
            "Start of the Optimization Processs..\n"
          ],
          "name": "stdout"
        },
        {
          "output_type": "stream",
          "text": [
            "/usr/local/lib/python3.7/dist-packages/torch/utils/data/dataloader.py:481: UserWarning: This DataLoader will create 4 worker processes in total. Our suggested max number of worker in current system is 2, which is smaller than what this DataLoader is going to create. Please be aware that excessive worker creation might get DataLoader running slow or even freeze, lower the worker number to avoid potential slowness/freeze if necessary.\n",
            "  cpuset_checked))\n"
          ],
          "name": "stderr"
        },
        {
          "output_type": "stream",
          "text": [
            "[1,  2000] loss: 1.996\n",
            "[1,  4000] loss: 2.045\n",
            "[2,  2000] loss: 1.980\n",
            "[2,  4000] loss: 2.056\n",
            "[3,  2000] loss: 2.135\n",
            "[3,  4000] loss: 2.117\n",
            "[4,  2000] loss: 2.088\n",
            "[4,  4000] loss: 2.069\n",
            "[5,  2000] loss: 2.006\n",
            "[5,  4000] loss: 1.969\n",
            "[6,  2000] loss: 1.924\n",
            "[6,  4000] loss: 1.901\n",
            "[7,  2000] loss: 1.872\n",
            "[7,  4000] loss: 1.859\n",
            "[8,  2000] loss: 1.812\n",
            "[8,  4000] loss: 1.797\n",
            "[9,  2000] loss: 1.777\n",
            "[9,  4000] loss: 1.756\n",
            "[10,  2000] loss: 1.730\n",
            "[10,  4000] loss: 1.731\n",
            "^^^^^^^^^^^^^^^^^\n",
            "Finished Optimization.\n",
            "The total time to train the model on the K80 GPU is : 9.1 minutes.\n"
          ],
          "name": "stdout"
        }
      ]
    },
    {
      "cell_type": "code",
      "metadata": {
        "id": "thCtk2wmp-I8",
        "colab": {
          "base_uri": "https://localhost:8080/",
          "height": 295
        },
        "outputId": "55420e26-59a3-4716-9858-aa5347d769e2"
      },
      "source": [
        "from matplotlib import pyplot as plt\n",
        "import numpy as np\n",
        "\n",
        "x = range(20)\n",
        "x_epoch = [z for z in range(1, 21) if z%2 == 0] \n",
        "x_ticks_labels = ['epoch ' + str(x) for x in range(1, 11)]\n",
        "\n",
        "plt.figure(1)\n",
        "plt.plot(x, loss_vctr, color = 'k', label = \"Training Error with SGD.\")\n",
        "plt.xticks(x_epoch, x_ticks_labels)\n",
        "plt.title(\"Training Error Plot.\")\n",
        "plt.ylabel(\"Training error loss.\")\n",
        "plt.xlabel(\"Number of Epochs.\")\n",
        "plt.legend()\n",
        "# plt.savefig(\"training_plot.png\", dpi = 300)  If you want to save your plot, uncomment.\n",
        "plt.show()"
      ],
      "execution_count": null,
      "outputs": [
        {
          "output_type": "display_data",
          "data": {
            "image/png": "[encoded data removed]",
            "text/plain": [
              "<Figure size 432x288 with 1 Axes>"
            ]
          },
          "metadata": {
            "tags": [],
            "needs_background": "light"
          }
        }
      ]
    },
    {
      "cell_type": "code",
      "metadata": {
        "id": "QGQ3Zy6cZ2Qd",
        "colab": {
          "base_uri": "https://localhost:8080/"
        },
        "outputId": "ac623018-7d95-4580-db8e-f8e9a09d10c6"
      },
      "source": [
        "correct = 0\n",
        "total = 0\n",
        "\n",
        "for data in testloader:\n",
        "        images, labels = data\n",
        "        images = Variable(images).cuda()\n",
        "        outputs = densenet(images)\n",
        "        _, predicted = torch.max(outputs.cpu().data, 1)\n",
        "        total += labels.size(0)\n",
        "        correct += (predicted == labels).sum()\n",
        "        \n",
        "print('Accuracy of the network on the 10000 test images: %d %%' % (\n",
        "    100 * correct / total))"
      ],
      "execution_count": null,
      "outputs": [
        {
          "output_type": "stream",
          "text": [
            "/usr/local/lib/python3.7/dist-packages/torch/utils/data/dataloader.py:481: UserWarning: This DataLoader will create 4 worker processes in total. Our suggested max number of worker in current system is 2, which is smaller than what this DataLoader is going to create. Please be aware that excessive worker creation might get DataLoader running slow or even freeze, lower the worker number to avoid potential slowness/freeze if necessary.\n",
            "  cpuset_checked))\n"
          ],
          "name": "stderr"
        },
        {
          "output_type": "stream",
          "text": [
            "Accuracy of the network on the 10000 test images: 36 %\n"
          ],
          "name": "stdout"
        }
      ]
    },
    {
      "cell_type": "code",
      "metadata": {
        "id": "JpCZmwmkx_3m",
        "colab": {
          "base_uri": "https://localhost:8080/"
        },
        "outputId": "80c1d8a8-39e4-400d-a0db-2eaa7092fb49"
      },
      "source": [
        "class_correct = list(0. for i in range(10))\n",
        "class_total = list(0. for i in range(10))\n",
        "with torch.no_grad():\n",
        "    for data in testloader:\n",
        "        images, labels = data\n",
        "        outputs = densenet(images.cuda())\n",
        "        _, predicted = torch.max(outputs, 1)\n",
        "        c = (predicted.cpu() == labels).squeeze()\n",
        "        for i in range(4):\n",
        "            label = labels[i]\n",
        "            class_correct[label] += c[i].item()\n",
        "            class_total[label] += 1\n",
        "\n",
        "\n",
        "for i in range(10):\n",
        "    print('Accuracy of %5s : %2d %%' % (\n",
        "        classes[i], 100 * class_correct[i] / class_total[i]))"
      ],
      "execution_count": null,
      "outputs": [
        {
          "output_type": "stream",
          "text": [
            "/usr/local/lib/python3.7/dist-packages/torch/utils/data/dataloader.py:481: UserWarning: This DataLoader will create 4 worker processes in total. Our suggested max number of worker in current system is 2, which is smaller than what this DataLoader is going to create. Please be aware that excessive worker creation might get DataLoader running slow or even freeze, lower the worker number to avoid potential slowness/freeze if necessary.\n",
            "  cpuset_checked))\n"
          ],
          "name": "stderr"
        },
        {
          "output_type": "stream",
          "text": [
            "Accuracy of plane : 51 %\n",
            "Accuracy of   car : 43 %\n",
            "Accuracy of  bird : 16 %\n",
            "Accuracy of   cat : 31 %\n",
            "Accuracy of  deer : 23 %\n",
            "Accuracy of   dog : 14 %\n",
            "Accuracy of  frog : 54 %\n",
            "Accuracy of horse : 44 %\n",
            "Accuracy of  ship : 38 %\n",
            "Accuracy of truck : 42 %\n"
          ],
          "name": "stdout"
        }
      ]
    }
  ]
}